{
 "cells": [
  {
   "cell_type": "code",
   "execution_count": 43,
   "metadata": {},
   "outputs": [
    {
     "name": "stdout",
     "output_type": "stream",
     "text": [
      "\n",
      "\n",
      "\n",
      "\n",
      "\n",
      "\n",
      "First HTML Page\n",
      "\n",
      "\n",
      "\n",
      "hi\n",
      " more text.\n",
      "\n",
      "\n",
      " This item is special. \n",
      " This item is also special. \n",
      "\n",
      "bye\n",
      "\n",
      "\n",
      "\n",
      "<ol>\n",
      "<li class=\"special\"> This item is special. </li>\n",
      "<li class=\"special super-special\"> This item is also special. </li>\n",
      "</ol>\n",
      "\n",
      " <ol>\n",
      "<li class=\"special\"> This item is special. </li>\n",
      "<li class=\"special super-special\"> This item is also special. </li>\n",
      "</ol>\n"
     ]
    }
   ],
   "source": [
    "from bs4 import BeautifulSoup\n",
    "html = \"\"\"<!DOCTYPE html>\n",
    "<html lang=\"en\">\n",
    "<head>\n",
    "    <meta charset=\"UTF-8\">\n",
    "    <meta http-equiv=\"X-UA-Compatible\" content=\"IE=edge\">\n",
    "    <meta name=\"viewport\" content=\"width=device-width, initial-scale=1.0\">\n",
    "    <title>First HTML Page</title>\n",
    "</head>\n",
    "<body>\n",
    "    <div id=\"first\">\n",
    "        <h3 data-example=\"yes\">hi</h3>\n",
    "        <p> more text.</p>\n",
    "    </div>\n",
    "    <ol>\n",
    "        <li class=\"special\"> This item is special. </li>\n",
    "        <li class=\"special super-special\"> This item is also special. </li>\n",
    "    </ol>\n",
    "    <div>bye</div>\n",
    "</body>\n",
    "</html>\n",
    "\"\"\"\n",
    "soup = BeautifulSoup(html,\"html.parser\")\n",
    "# Navigating via tags\n",
    "tag = soup.get_text()\n",
    "print(tag)\n",
    "contents = soup.body.contents\n",
    "print(contents[2].next_sibling)\n",
    "\n",
    "# data = soup.find(class_= \"super-special\")\n",
    "# print(\"\\n\",data.parent.parent.parent)\n",
    "\n",
    "# Navigating via Search\n",
    "data = soup.find(id = \"first\")\n",
    "print(\"\\n\",data.find_next_sibling())\n"
   ]
  }
 ],
 "metadata": {
  "kernelspec": {
   "display_name": "base",
   "language": "python",
   "name": "python3"
  },
  "language_info": {
   "codemirror_mode": {
    "name": "ipython",
    "version": 3
   },
   "file_extension": ".py",
   "mimetype": "text/x-python",
   "name": "python",
   "nbconvert_exporter": "python",
   "pygments_lexer": "ipython3",
   "version": "3.8.5"
  },
  "orig_nbformat": 4,
  "vscode": {
   "interpreter": {
    "hash": "a2ab3825ac7005fb7b26f112e9c99ae62f464c629e30b0d534c3b931b6cbc3ff"
   }
  }
 },
 "nbformat": 4,
 "nbformat_minor": 2
}
