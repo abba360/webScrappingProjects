{
 "cells": [
  {
   "cell_type": "code",
   "execution_count": 1,
   "metadata": {
    "vscode": {
     "languageId": "html"
    }
   },
   "outputs": [
    {
     "name": "stdout",
     "output_type": "stream",
     "text": [
      "<div id=\"first\">\n",
      "<h3 data-example=\"yes\">hi</h3>\n",
      "<p> more text.</p>\n",
      "</div> \n",
      "\n",
      "<li class=\"special\"> This item is special. </li> \n",
      "\n",
      "<div id=\"first\">\n",
      "<h3 data-example=\"yes\">hi</h3>\n",
      "<p> more text.</p>\n",
      "</div> \n",
      "\n",
      "[<div id=\"first\">\n",
      "<h3 data-example=\"yes\">hi</h3>\n",
      "<p> more text.</p>\n",
      "</div>, <div>bye</div>] \n",
      "\n",
      "[<li class=\"special\"> This item is special. </li>, <li class=\"special\"> This item is also special. </li>] \n",
      "\n",
      "<class 'bs4.BeautifulSoup'>\n"
     ]
    }
   ],
   "source": [
    "from bs4 import BeautifulSoup\n",
    "html = \"\"\"<!DOCTYPE html>\n",
    "<html lang=\"en\">\n",
    "<head>\n",
    "    <meta charset=\"UTF-8\">\n",
    "    <meta http-equiv=\"X-UA-Compatible\" content=\"IE=edge\">\n",
    "    <meta name=\"viewport\" content=\"width=device-width, initial-scale=1.0\">\n",
    "    <title>First HTML Page</title>\n",
    "</head>\n",
    "<body>\n",
    "    <div id=\"first\">\n",
    "        <h3 data-example=\"yes\">hi</h3>\n",
    "        <p> more text.</p>\n",
    "    </div>\n",
    "    <ol>\n",
    "        <li class=\"special\"> This item is special. </li>\n",
    "        <li class=\"special\"> This item is also special. </li>\n",
    "    </ol>\n",
    "    <div>bye</div>\n",
    "</body>\n",
    "</html>\n",
    "\"\"\"\n",
    "soup = BeautifulSoup(html,\"html.parser\")\n",
    "d = soup.find(\"div\")\n",
    "all_d = soup.find_all(\"div\")\n",
    "all_s = soup.find_all(class_=\"special\")\n",
    "\n",
    "se = soup.select(\"#first\")\n",
    "a_se = soup.select(\".special\")\n",
    "print(se[0],\"\\n\")\n",
    "print(a_se[0],\"\\n\")\n",
    "\n",
    "print(d,\"\\n\")\n",
    "print(all_d,\"\\n\")\n",
    "print(all_s,\"\\n\")\n",
    "print(type(soup))\n"
   ]
  },
  {
   "cell_type": "code",
   "execution_count": null,
   "metadata": {
    "vscode": {
     "languageId": "html"
    }
   },
   "outputs": [],
   "source": [
    "from bs4 import BeautifulSoup\n",
    "import requests\n",
    "import json\n",
    "url = 'https://archive.ics.uci.edu/ml/datasets.php'\n",
    "response = requests.get(url)\n",
    "soup = BeautifulSoup(response.text,\"html.parser\")\n",
    "# print(soup.select('table.width class_=\"\"'))\n",
    "tables = soup.find_all('b')#, class_ ='cellpadding')\n",
    "# for table in tables:\n",
    "print(tables.get_text())"
   ]
  }
 ],
 "metadata": {
  "kernelspec": {
   "display_name": "base",
   "language": "python",
   "name": "python3"
  },
  "language_info": {
   "codemirror_mode": {
    "name": "ipython",
    "version": 3
   },
   "file_extension": ".py",
   "mimetype": "text/x-python",
   "name": "python",
   "nbconvert_exporter": "python",
   "pygments_lexer": "ipython3",
   "version": "3.8.5"
  },
  "orig_nbformat": 4,
  "vscode": {
   "interpreter": {
    "hash": "a2ab3825ac7005fb7b26f112e9c99ae62f464c629e30b0d534c3b931b6cbc3ff"
   }
  }
 },
 "nbformat": 4,
 "nbformat_minor": 2
}
