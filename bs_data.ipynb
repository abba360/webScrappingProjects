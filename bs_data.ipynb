{
 "cells": [
  {
   "cell_type": "code",
   "execution_count": 1,
   "metadata": {},
   "outputs": [
    {
     "name": "stdout",
     "output_type": "stream",
     "text": [
      "yes\n",
      "yes\n",
      "first\n",
      "first\n",
      "4354\n"
     ]
    }
   ],
   "source": [
    "from bs4 import BeautifulSoup\n",
    "html = \"\"\"<!DOCTYPE html>\n",
    "<html lang=\"en\">\n",
    "<head>\n",
    "    <meta charset=\"UTF-8\" class=\"special\">\n",
    "    <meta http-equiv=\"X-UA-Compatible\" content=\"IE=edge\">\n",
    "    <meta name=\"viewport\" content=\"width=device-width, initial-scale=1.0\">\n",
    "    <title>First HTML Page</title>\n",
    "</head>\n",
    "<body>\n",
    "    <div id=\"first\">\n",
    "        <h3 data-example=\"yes\">hi</h3>\n",
    "        <p> more text.</p>\n",
    "    </div>\n",
    "    <ol>\n",
    "        <li class=\"special super-special\"> This item is special.</li>\n",
    "        <li class=\"special\"> This item is also special. </li>\n",
    "    </ol>\n",
    "    <div>bye</div>\n",
    "</body>\n",
    "</html>\n",
    "\"\"\"\n",
    "soup = BeautifulSoup(html,\"html.parser\")\n",
    "attr_access1 = soup.find(\"h3\")\n",
    "attr_access2 = soup.find(\"h3\").attrs[\"data-example\"]\n",
    "print(attr_access1[\"data-example\"])\n",
    "print(attr_access2)\n",
    "\n",
    "\n",
    "id_access1 = soup.find(\"div\")\n",
    "id_access2 = soup.find(\"div\").attrs[\"id\"]\n",
    "print(id_access1[\"id\"])\n",
    "print(id_access2)\n",
    "\n",
    "# id_element = soup.select(\"#first\")[0]\n",
    "# class_element = soup.select(\".special\")\n",
    "# for element in class_element:\n",
    "#     print(element.get_text())\n",
    "#     print(element.name)\n",
    "#     print(element.attrs[\"class\"],\"\\n\")\n",
    "\n",
    "\n",
    "# print(id_element.get_text(),\"\\n\")\n",
    "\n",
    "print(7*622)"
   ]
  },
  {
   "cell_type": "code",
   "execution_count": 15,
   "metadata": {},
   "outputs": [
    {
     "name": "stdout",
     "output_type": "stream",
     "text": [
      "['sa', 'ni']\n",
      "0\n"
     ]
    },
    {
     "ename": "TypeError",
     "evalue": "join() takes exactly one argument (0 given)",
     "output_type": "error",
     "traceback": [
      "\u001b[1;31m---------------------------------------------------------------------------\u001b[0m",
      "\u001b[1;31mTypeError\u001b[0m                                 Traceback (most recent call last)",
      "\u001b[1;32m<ipython-input-15-b103fa59267a>\u001b[0m in \u001b[0;36m<module>\u001b[1;34m\u001b[0m\n\u001b[0;32m      4\u001b[0m \u001b[0mdf\u001b[0m \u001b[1;33m=\u001b[0m \u001b[1;33m[\u001b[0m\u001b[1;36m34\u001b[0m\u001b[1;33m,\u001b[0m\u001b[1;34m\"kkl\"\u001b[0m\u001b[1;33m,\u001b[0m\u001b[1;34m\"pi\"\u001b[0m\u001b[1;33m]\u001b[0m\u001b[1;33m\u001b[0m\u001b[1;33m\u001b[0m\u001b[0m\n\u001b[0;32m      5\u001b[0m \u001b[0mprint\u001b[0m\u001b[1;33m(\u001b[0m\u001b[0mdf\u001b[0m\u001b[1;33m.\u001b[0m\u001b[0mindex\u001b[0m\u001b[1;33m(\u001b[0m\u001b[1;36m34\u001b[0m\u001b[1;33m)\u001b[0m\u001b[1;33m)\u001b[0m\u001b[1;33m\u001b[0m\u001b[1;33m\u001b[0m\u001b[0m\n\u001b[1;32m----> 6\u001b[1;33m \u001b[1;34m\"c\"\u001b[0m\u001b[1;33m.\u001b[0m\u001b[0mjoin\u001b[0m\u001b[1;33m(\u001b[0m\u001b[1;33m)\u001b[0m\u001b[1;33m\u001b[0m\u001b[1;33m\u001b[0m\u001b[0m\n\u001b[0m",
      "\u001b[1;31mTypeError\u001b[0m: join() takes exactly one argument (0 given)"
     ]
    }
   ],
   "source": [
    "s ={\"sa\":\"sw\",\"ni\":\"ne\"}\n",
    "print(list(s))\n",
    "\n",
    "df = [34,\"kkl\",\"pi\"]\n",
    "print(df.index(34))\n",
    "\"c\".join()"
   ]
  }
 ],
 "metadata": {
  "kernelspec": {
   "display_name": "base",
   "language": "python",
   "name": "python3"
  },
  "language_info": {
   "codemirror_mode": {
    "name": "ipython",
    "version": 3
   },
   "file_extension": ".py",
   "mimetype": "text/x-python",
   "name": "python",
   "nbconvert_exporter": "python",
   "pygments_lexer": "ipython3",
   "version": "3.8.5"
  },
  "orig_nbformat": 4,
  "vscode": {
   "interpreter": {
    "hash": "a2ab3825ac7005fb7b26f112e9c99ae62f464c629e30b0d534c3b931b6cbc3ff"
   }
  }
 },
 "nbformat": 4,
 "nbformat_minor": 2
}
