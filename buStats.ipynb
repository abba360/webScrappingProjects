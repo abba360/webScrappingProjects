{
 "cells": [
  {
   "attachments": {},
   "cell_type": "markdown",
   "metadata": {},
   "source": []
  },
  {
   "cell_type": "code",
   "execution_count": 3,
   "metadata": {},
   "outputs": [],
   "source": [
    "\n",
    "# def dictify(ul):\n",
    "#     result = {}\n",
    "#     for li in ul.find_all(\"li\", recursive=False):\n",
    "#         key = next(li.stripped_strings)\n",
    "#         ul = li.find(\"ul\")\n",
    "#         if ul:\n",
    "#             result[key] = dictify(ul)\n",
    "#         else:\n",
    "#             result[key] = None\n",
    "#     return result"
   ]
  },
  {
   "cell_type": "code",
   "execution_count": 4,
   "metadata": {},
   "outputs": [
    {
     "name": "stdout",
     "output_type": "stream",
     "text": [
      "['Community', 'Campus', 'Academics', 'Grant & Contract Awards', 'Undergraduate Financial Aid & Scholarships', 'Student Life', 'Research', 'International Community', 'Athletics']\n",
      "['Student Body', 'Living Alumni', 'Total Employees', 'Faculty', 'Nondegree Students', 'Graduate & Professional Students', 'Undergraduate Students', 'Classrooms', 'Buildings', 'Laboratories', 'Libraries', 'Campus Area (acres)', 'Study Abroad Programs', 'Average Class Size', 'Faculty', 'Student/Faculty Ratio', 'Schools and Colleges', 'Programs of Study', 'Research Expenditures', 'Research Awards', 'BMC Clinical Research Grants (FY21)', 'Average Total Need-Based Financial Aid', 'Average Need-Based Grant/Scholarship', 'Grants & Scholarships (need-based)', 'Grants & Scholarships (non-need-based)', 'Community Service Hours', 'Alternative Service Breaks Participants', 'BU on Social', 'Cultural & Religious Organizations', 'Community Service & Justice Organizations', 'Academic & Professional Organizations', 'Art & Performance Organizations', 'Student Organizations', 'First-Year Student Outreach Project Volunteers', 'Faculty Publications', 'Student UROP Participants', 'Centers & Institutes', 'Global Initiatives', 'Cultural Student Groups', 'Alumni Countries', 'International Students', 'Intramural Sports & Tournaments', 'Club and Intramural Sports Participants', 'Club Sports', 'Varsity Sports']\n",
      "['36,729', '414,500+', '10,468', '4,187', '1,202', '17,937', '17,590', '846', '343', '1,495', '13', '140', '75+', '30', '4,187', '11:1', '17', '300+', '$630.7M', '$531.2M', '$110.0M', '$53,073', '$48,604', '$346.6M', '$26.9M', '130,000+', '65+', 'new accounts daily', '80+', '80+', '130+', '60+', '450+', '800+', '7,000+', '450+', '130+', '300+', '60+', '180+', '10,000+', '12+', '7,000+', '34', '24']\n",
      "{'Student Body': '36,729', 'Living Alumni': '414,500+', 'Total Employees': '10,468', 'Faculty': '4,187', 'Nondegree Students': '1,202', 'Graduate & Professional Students': '17,937', 'Undergraduate Students': '17,590', 'Classrooms': '846', 'Buildings': '343', 'Laboratories': '1,495', 'Libraries': '13', 'Campus Area (acres)': '140', 'Study Abroad Programs': '75+', 'Average Class Size': '30', 'Student/Faculty Ratio': '11:1', 'Schools and Colleges': '17', 'Programs of Study': '300+', 'Research Expenditures': '$630.7M', 'Research Awards': '$531.2M', 'BMC Clinical Research Grants (FY21)': '$110.0M', 'Average Total Need-Based Financial Aid': '$53,073', 'Average Need-Based Grant/Scholarship': '$48,604', 'Grants & Scholarships (need-based)': '$346.6M', 'Grants & Scholarships (non-need-based)': '$26.9M', 'Community Service Hours': '130,000+', 'Alternative Service Breaks Participants': '65+', 'BU on Social': 'new accounts daily', 'Cultural & Religious Organizations': '80+', 'Community Service & Justice Organizations': '80+', 'Academic & Professional Organizations': '130+', 'Art & Performance Organizations': '60+', 'Student Organizations': '450+', 'First-Year Student Outreach Project Volunteers': '800+', 'Faculty Publications': '7,000+', 'Student UROP Participants': '450+', 'Centers & Institutes': '130+', 'Global Initiatives': '300+', 'Cultural Student Groups': '60+', 'Alumni Countries': '180+', 'International Students': '10,000+', 'Intramural Sports & Tournaments': '12+', 'Club and Intramural Sports Participants': '7,000+', 'Club Sports': '34', 'Varsity Sports': '24'}\n"
     ]
    }
   ],
   "source": [
    "from bs4 import BeautifulSoup\n",
    "import requests\n",
    "import json\n",
    "bu_url = \"https://www.bu.edu/president/boston-university-facts-stats/\"\n",
    "response = requests.get(bu_url)\n",
    "soup = BeautifulSoup(response.text,\"html.parser\")\n",
    "h5_list = []\n",
    "attr_h5 = soup.find_all(\"h5\")\n",
    "for atr in attr_h5:\n",
    "        h5_list.append(atr.get_text())\n",
    "print(h5_list)\n",
    "\n",
    "\"\"\" Scrapping the text data and their corresponding values\"\"\"\n",
    "# Scrapping the text data\n",
    "text_list = []\n",
    "attr_p = soup.find_all(\"p\",class_=\"text\")\n",
    "for atr in attr_p:\n",
    "        text_list.append(atr.get_text())\n",
    "print(text_list)\n",
    "\n",
    "# Scrapping the values that correspond to text data\n",
    "val_list = []\n",
    "attr_p = soup.find_all(\"span\",class_=\"value\")\n",
    "for val in attr_p:\n",
    "        val_list.append(val.get_text())\n",
    "print(val_list)\n",
    "\n",
    "dic = dict(zip(text_list,val_list))\n",
    "print(dic)\n",
    "\n",
    "with open(\"bustonUni_stats.json\",\"w\") as bu_file:\n",
    "        json.dump(dic,bu_file)"
   ]
  },
  {
   "cell_type": "code",
   "execution_count": 109,
   "metadata": {},
   "outputs": [
    {
     "name": "stdout",
     "output_type": "stream",
     "text": [
      "['Name', 'Data Types', 'Default Task', 'Attribute Types', '# Instances', '# Attributes', 'Year']\n",
      "622\n",
      "4354\n",
      "{'Name': ['Abalone', 'Adult', 'Annealing', 'Anonymous Microsoft Web Data', 'Arrhythmia', 'Artificial Characters', 'Audiology (Original)', 'Audiology (Standardized)', 'Auto MPG', 'Automobile', 'Badges', 'Balance Scale', 'Balloons', 'Breast Cancer', 'Breast Cancer Wisconsin (Original)', 'Breast Cancer Wisconsin (Prognostic)', 'Breast Cancer Wisconsin (Diagnostic)', 'Pittsburgh Bridges', 'Car Evaluation', 'Census Income', 'Chess (King-Rook vs. King-Knight)', 'Chess (King-Rook vs. King-Pawn)', 'Chess (King-Rook vs. King)', 'Chess (Domain Theories)', 'Bach Chorales', 'Connect-4', 'Credit Approval', 'Japanese Credit Screening', 'Computer Hardware', 'Contraceptive Method Choice', 'Covertype', 'Cylinder Bands', 'Dermatology', 'Diabetes', 'DGP2 - The Second Data Generation Program', 'Document Understanding', 'EBL Domain Theories', 'Echocardiogram', 'Ecoli', 'Flags', 'Function Finding', 'Glass Identification', \"Haberman's Survival\", 'Hayes-Roth', 'Heart Disease', 'Hepatitis', 'Horse Colic', 'ICU', 'Image Segmentation', 'Internet Advertisements', 'Ionosphere', 'Iris', 'ISOLET', 'Kinship', 'Labor Relations', 'LED Display Domain', 'Lenses', 'Letter Recognition', 'Liver Disorders', 'Logic Theorist', 'Lung Cancer', 'Lymphography', 'Mechanical Analysis', 'Meta-data', 'Mobile Robots', 'Molecular Biology (Promoter Gene Sequences)', 'Molecular Biology (Protein Secondary Structure)', 'Molecular Biology (Splice-junction Gene Sequences)', \"MONK's Problems\", 'Moral Reasoner', 'Multiple Features', 'Mushroom', 'Musk (Version 1)', 'Musk (Version 2)', 'Nursery', 'Othello Domain Theory', 'Page Blocks Classification', 'Optical Recognition of Handwritten Digits', 'Pen-Based Recognition of Handwritten Digits', 'Post-Operative Patient', 'Primary Tumor', 'Prodigy', 'Qualitative Structure Activity Relationships', 'Quadruped Mammals', 'Servo', 'Shuttle Landing Control', 'Solar Flare', 'Soybean (Large)', 'Soybean (Small)', 'Challenger USA Space Shuttle O-Ring', 'Low Resolution Spectrometer', 'Spambase', 'SPECT Heart', 'SPECTF Heart', 'Sponge', 'Statlog Project', 'Student Loan Relational', 'Teaching Assistant Evaluation', 'Tic-Tac-Toe Endgame', 'Thyroid Disease', 'Trains', 'University', 'Congressional Voting Records', 'Water Treatment Plant', 'Waveform Database Generator (Version 1)', 'Waveform Database Generator (Version 2)', 'Wine', 'Yeast', 'Zoo', 'Undocumented', 'Twenty Newsgroups', 'Australian Sign Language signs', 'Australian Sign Language signs (High Quality)', 'US Census Data (1990)', 'Census-Income (KDD)', 'Coil 1999 Competition Data', 'Corel Image Features', 'E. Coli Genes', 'EEG Database', 'El Nino', 'Entree Chicago Recommendation Data', 'CMU Face Images', 'Insurance Company Benchmark (COIL 2000)', 'Internet Usage Data', 'IPUMS Census Database', 'Japanese Vowels', 'KDD Cup 1998 Data', 'KDD Cup 1999 Data', 'M. Tuberculosis Genes', 'Movie', 'MSNBC.com Anonymous Web Data', 'NSF Research Award Abstracts 1990-2003', 'Pioneer-1 Mobile Robot Data', 'Pseudo Periodic Synthetic Time Series', 'Reuters-21578 Text Categorization Collection', 'Robot Execution Failures', 'Synthetic Control Chart Time Series', 'Syskill and Webert Web Page Ratings', 'UNIX User Data', 'Volcanoes on Venus - JARtool experiment', 'Statlog (Australian Credit Approval)', 'Statlog (German Credit Data)', 'Statlog (Heart)', 'Statlog (Landsat Satellite)', 'Statlog (Image Segmentation)', 'Statlog (Shuttle)', 'Statlog (Vehicle Silhouettes)', 'Connectionist Bench (Nettalk Corpus)', 'Connectionist Bench (Sonar, Mines vs. Rocks)', 'Connectionist Bench (Vowel Recognition - Deterding Data)', 'Economic Sanctions', 'Protein Data', 'Cloud', 'CalIt2 Building People Counts', 'Dodgers Loop Sensor', 'Poker Hand', 'MAGIC Gamma Telescope', 'UJI Pen Characters', 'Mammographic Mass', 'Forest Fires', 'Reuters Transcribed Subset', 'Bag of Words', 'Concrete Compressive Strength', 'Hill-Valley', 'Arcene', 'Dexter', 'Dorothea', 'Gisette', 'Madelon', 'Ozone Level Detection', 'Abscisic Acid Signaling Network', 'Parkinsons', 'Character Trajectories', 'Blood Transfusion Service Center', 'UJI Pen Characters (Version 2)', 'Semeion Handwritten Digit', 'SECOM', 'Plants', 'Libras Movement', 'Concrete Slump Test', 'Communities and Crime', 'Acute Inflammations', 'Wine Quality', 'URL Reputation', 'p53 Mutants', 'Parkinsons Telemonitoring', 'Demospongiae', 'Opinosis Opinion ⁄ Review', 'Breast Tissue', 'Cardiotocography', 'Wall-Following Robot Navigation Data', 'Spoken Arabic Digit', 'Localization Data for Person Activity', 'AutoUniv', 'Steel Plates Faults', 'MiniBooNE particle identification', 'YearPredictionMSD', 'PEMS-SF', 'OpinRank Review Dataset', 'Relative location of CT slices on axial axis', 'Online Handwritten Assamese Characters Dataset', 'PubChem Bioassay Data', 'Record Linkage Comparison Patterns', 'Communities and Crime Unnormalized', 'Vertebral Column', 'EMG Physical Action Data Set', 'Vicon Physical Action Data Set', 'Amazon Commerce reviews set', 'Amazon Access Samples', 'Reuter_50_50', 'Farm Ads', 'DBWorld e-mails', 'KEGG Metabolic Relation Network (Directed)', 'KEGG Metabolic Reaction Network (Undirected)', 'Bank Marketing', 'YouTube Comedy Slam Preference Data', 'Gas Sensor Array Drift Dataset', 'ILPD (Indian Liver Patient Dataset)', 'OPPORTUNITY Activity Recognition', 'Nomao', 'SMS Spam Collection', 'Skin Segmentation', 'Planning Relax', 'PAMAP2 Physical Activity Monitoring', 'Restaurant & consumer data', 'CNAE-9', 'Individual household electric power consumption', 'seeds', 'Northix', 'QtyT40I10D100K', 'Legal Case Reports', 'Human Activity Recognition Using Smartphones', 'One-hundred plant species leaves data set', 'Energy efficiency', 'Yacht Hydrodynamics', 'Fertility', 'Daphnet Freezing of Gait', '3D Road Network (North Jutland, Denmark)', 'ISTANBUL STOCK EXCHANGE', 'Buzz in social media ', 'First-order theorem proving', 'Wearable Computing: Classification of Body Postures and Movements (PUC-Rio)', 'Gas sensor arrays in open sampling settings', 'Climate Model Simulation Crashes', 'MicroMass', 'QSAR biodegradation', 'BLOGGER', 'Daily and Sports Activities', 'User Knowledge Modeling', 'Reuters RCV1 RCV2 Multilingual, Multiview Text Categorization Test collection', 'NYSK', 'Turkiye Student Evaluation', \"ser Knowledge Modeling Data (Students' Knowledge Levels on DC Electrical Machines)\", 'EEG Eye State', 'Physicochemical Properties of Protein Tertiary Structure', 'seismic-bumps', 'banknote authentication', 'USPTO Algorithm Challenge, run by NASA-Harvard Tournament Lab and TopCoder    Problem: Pat', 'YouTube Multiview Video Games Dataset', 'Gas Sensor Array Drift Dataset at Different Concentrations', 'Activities of Daily Living (ADLs) Recognition Using Binary Sensors', 'SkillCraft1 Master Table Dataset', 'Weight Lifting Exercises monitored with Inertial Measurement Units', 'SML2010', 'Bike Sharing Dataset', 'Predict keywords activities in a online social media', 'Thoracic Surgery Data', 'EMG dataset in Lower Limb', 'SUSY', 'HIGGS', 'Qualitative_Bankruptcy', 'LSVT Voice Rehabilitation', 'Dataset for ADL Recognition with Wrist-worn Accelerometer', 'Wilt', 'User Identification From Walking Activity', 'Activity Recognition from Single Chest-Mounted Accelerometer', 'Leaf', 'Dresses_Attribute_Sales', 'Tamilnadu Electricity Board Hourly Readings', 'Airfoil Self-Noise', 'Wholesale customers', 'Twitter Data set for Arabic Sentiment Analysis', 'Combined Cycle Power Plant', 'Urban Land Cover', 'Diabetes 130-US hospitals for years 1999-2008', 'Bach Choral Harmony', 'StoneFlakes', 'Tennis Major Tournament Match Statistics', 'Parkinson Speech Dataset with  Multiple Types of Sound Recordings', 'Gesture Phase Segmentation', 'Perfume Data', 'BlogFeedback', 'REALDISP Activity Recognition Dataset', 'Newspaper and magazine images segmentation dataset', 'AAAI 2014 Accepted Papers', 'Gas sensor array under flow modulation', 'Gas sensor array exposed to turbulent gas mixtures', 'UJIIndoorLoc', 'Sentence Classification', 'Dow Jones Index', 'sEMG for Basic Hand movements', 'AAAI 2013 Accepted Papers', 'Geographical Original of Music', 'Condition Based Maintenance of Naval Propulsion Plants', 'Grammatical Facial Expressions', 'NoisyOffice', 'MHEALTH Dataset', 'Student Performance', 'ElectricityLoadDiagrams20112014', 'Gas sensor array under dynamic gas mixtures', 'microblogPCU', 'Firm-Teacher_Clave-Direction_Classification', 'Dataset for Sensorless Drive Diagnosis', 'TV News Channel Commercial Detection Dataset', 'Phishing Websites', 'Greenhouse Gas Observing Network', 'Diabetic Retinopathy Debrecen Data Set', 'HIV-1 protease cleavage', 'Sentiment Labelled Sentences', 'Online News Popularity', 'Forest type mapping', 'wiki4HE', 'Online Video Characteristics and Transcoding Time Dataset', 'Chronic_Kidney_Disease', 'Machine Learning based ZZAlpha Ltd. Stock Recommendations 2012-2014', 'Folio', 'Taxi Service Trajectory - Prediction Challenge, ECML PKDD 2015', 'Cuff-Less Blood Pressure Estimation', 'Smartphone-Based Recognition of Human Activities and Postural Transitions', 'Mice Protein Expression', 'UJIIndoorLoc-Mag', 'Heterogeneity Activity Recognition', 'Educational Process Mining (EPM): A Learning Analytics Data Set', 'HEPMASS', 'Indoor User Movement Prediction from RSS data', 'Open University Learning Analytics dataset', 'default of credit card clients', 'Mesothelioma’s disease data set ', 'Online Retail', 'SIFT10M', 'GPS Trajectories', 'Detect Malacious Executable(AntiVirus)', 'Occupancy Detection ', 'Improved Spiral Test Using Digitized Graphics Tablet for Monitoring Parkinson’s Disease', 'News Aggregator', 'Air Quality', 'Twin gas sensor arrays', 'Gas sensors for home activity monitoring', 'Facebook Comment Volume Dataset', 'Smartphone Dataset for Human Activity Recognition (HAR) in Ambient Assisted Living (AAL)', 'Polish companies bankruptcy data', 'Activity Recognition system based on Multisensor data fusion (AReM)', 'Dota2 Games Results', 'Facebook metrics', 'UbiqLog (smartphone lifelogging)', 'NIPS Conference Papers 1987-2015', 'HTRU2', 'Drug consumption (quantified)', 'Appliances energy prediction', 'Miskolc IIS Hybrid IPS', 'KDC-4007 dataset Collection', 'Geo-Magnetic field and WLAN dataset for indoor localisation from wristband and smartphone', 'DrivFace', 'Website Phishing', 'YouTube Spam Collection', 'Beijing PM2.5 Data', 'Cargo 2000 Freight Tracking and Tracing', 'Cervical cancer (Risk Factors)', 'Quality Assessment of Digital Colposcopies', 'KASANDR', 'FMA: A Dataset For Music Analysis', 'Air quality', 'Epileptic Seizure Recognition', 'Devanagari Handwritten Character Dataset', 'Stock portfolio performance', 'MoCap Hand Postures', 'Early biomarkers of Parkinson�s disease based on natural connected speech', 'Data for Software Engineering Teamwork Assessment in Education Setting', 'PM2.5 Data of Five Chinese Cities', 'Parkinson Disease Spiral Drawings Using Digitized Graphics Tablet', 'Sales_Transactions_Dataset_Weekly', 'Las Vegas Strip', 'Eco-hotel', 'MEU-Mobile KSD', 'Crowdsourced Mapping', 'gene expression cancer RNA-Seq', 'Hybrid Indoor Positioning Dataset from WiFi RSSI, Bluetooth and magnetometer', 'chestnut – LARVIC', 'Burst Header Packet (BHP) flooding attack on Optical Burst Switching (OBS) Network', 'Motion Capture Hand Postures', 'Anuran Calls (MFCCs)', 'TTC-3600: Benchmark dataset for Turkish text categorization', 'Gastrointestinal Lesions in Regular Colonoscopy', 'Daily Demand Forecasting Orders', 'Paper Reviews', 'extention of Z-Alizadeh sani dataset', 'Z-Alizadeh Sani', 'Dynamic Features of VirusShare Executables', 'IDA2016Challenge', 'DSRC Vehicle Communications', 'Mturk User-Perceived Clusters over Images', 'Character Font Images', 'DeliciousMIL: A Data Set for Multi-Label Multi-Instance Learning with Instance Labels', 'Autistic Spectrum Disorder Screening Data for Children  ', 'Autistic Spectrum Disorder Screening Data for Adolescent   ', 'APS Failure at Scania Trucks', 'Wireless Indoor Localization', 'HCC Survival', 'CSM (Conventional and Social Media Movies) Dataset 2014 and 2015', 'University of Tehran Question Dataset 2016 (UTQD.2016)', 'Autism Screening Adult', 'Activity recognition with healthy older people using a batteryless wearable sensor', 'Immunotherapy Dataset', 'Cryotherapy Dataset ', 'OCT data & Color Fundus Images of Left & Right Eyes', 'Discrete Tone Image Dataset', 'News Popularity in Multiple Social Media Platforms', 'Ultrasonic flowmeter diagnostics', 'ICMLA 2014 Accepted Papers Data Set', 'BLE RSSI Dataset for Indoor localization and Navigation', 'Container Crane Controller Data Set', 'Residential Building Data Set', 'Health News in Twitter', 'chipseq', 'SGEMM GPU kernel performance', 'Repeat Consumption Matrices', 'detection_of_IoT_botnet_attacks_N_BaIoT', 'Absenteeism at work', 'SCADI', 'Condition monitoring of hydraulic systems', 'Carbon Nanotubes', 'Optical Interconnection Network ', 'Sports articles for objectivity analysis', 'Breast Cancer Coimbra', 'GNFUV Unmanned Surface Vehicles Sensor Data', 'Dishonest Internet users Dataset', 'Victorian Era Authorship Attribution', 'Simulated Falls and Daily Living Activities Data Set', 'Multimodal Damage Identification for Humanitarian Computing', 'EEG Steady-State Visual Evoked Potential Signals', 'Roman Urdu Data Set', 'Avila', 'PANDOR', 'Drug Review Dataset (Druglib.com)', 'Drug Review Dataset (Drugs.com)', 'Physical Unclonable Functions', 'Superconductivty Data', 'WESAD (Wearable Stress and Affect Detection)', 'GNFUV Unmanned Surface Vehicles Sensor Data Set 2', 'Student Academics Performance', 'Online Shoppers Purchasing Intention Dataset', 'PMU-UD', \"Parkinson's Disease Classification\", 'Electrical Grid Stability Simulated Data ', 'Caesarian Section Classification Dataset', 'BAUM-1', 'BAUM-2', 'Audit Data', 'BuddyMove Data Set', 'Real estate valuation data set', 'Early biomarkers of Parkinson’s disease based on natural connected speech Data Set ', 'Somerville Happiness Survey', '2.4 GHZ Indoor Channel Measurements', 'EMG data for gestures', 'Parking Birmingham', 'Behavior of the urban traffic of the city of Sao Paulo in Brazil', 'Travel Reviews', 'Tarvel Review Ratings', 'Rice Leaf Diseases', 'Gas sensor array temperature modulation', 'Facebook Live Sellers in Thailand', 'Parkinson Dataset with replicated acoustic features ', 'Metro Interstate Traffic Volume', 'Query Analytics Workloads Dataset', 'Wave Energy Converters', 'PPG-DaLiA', 'Alcohol QCM Sensor Dataset', 'Divorce Predictors data set', 'Incident management process enriched event log', 'Opinion Corpus for Lebanese Arabic Reviews (OCLAR)', 'MEx', 'Beijing Multi-Site Air-Quality Data', 'Online Retail II', 'Hepatitis C Virus (HCV) for Egyptian patients', 'QSAR fish toxicity', 'QSAR aquatic toxicity', 'Human Activity Recognition from Continuous Ambient Sensor Data', 'WISDM Smartphone and Smartwatch Activity and Biometrics Dataset ', 'QSAR oral toxicity', 'QSAR androgen receptor', 'QSAR Bioconcentration classes dataset', 'QSAR fish bioconcentration factor (BCF)', 'A study of  Asian Religious and Biblical Texts', 'Real-time Election Results: Portugal 2019', 'Bias correction of numerical prediction model temperature forecast', 'Bar Crawl: Detecting Heavy Drinking', 'Kitsune Network Attack Dataset', 'Shoulder Implant X-Ray Manufacturer Classification', 'Speaker Accent Recognition', 'Heart failure clinical records', 'Deepfakes: Medical Image Tamper Detection', 'selfBACK', 'South German Credit', 'Exasens', 'Swarm Behaviour', 'Crop mapping using fused optical-radar data set', 'BitcoinHeistRansomwareAddressDataset', 'Facebook Large Page-Page Network', 'Amphibians', 'Early stage diabetes risk prediction dataset.', 'Turkish Spam V01', 'Stock keeping units', 'Demand Forecasting for a store', 'Detect Malware Types', 'Wave Energy Converters', 'Youtube cookery channels viewers comments in Hinglish', 'Pedestrian in Traffic Dataset', 'Cervical Cancer Behavior Risk', 'Sattriya_Dance_Single_Hand_Gestures Dataset', 'Divorce Predictors data set', '3W dataset', 'Malware static and dynamic features VxHeaven and Virus Total', 'Internet Firewall Data', 'User Profiling and Abusive Language Detection Dataset', 'Estimation of obesity levels based on eating habits and physical condition ', 'Rice (Cammeo and Osmancik)', 'Vehicle routing and scheduling problems', 'Algerian Forest Fires Dataset  ', 'Breath Metabolomics', 'Horton General Hospital', 'UrbanGB, urban road accidents coordinates labelled by the urban center', 'Gas Turbine CO and NOx Emission Data Set', 'Activity recognition using wearable physiological measurements', 'clickstream data for online shopping', 'CNNpred: CNN-based stock market prediction using a diverse set of variables', 'Apartment for rent classified', ': Simulated Data set of Iraqi tourism places', 'Nasarian CAD Dataset', 'Monolithic Columns in Troad and Mysia Region', 'Bar Crawl: Detecting Heavy Drinking', 'Seoul Bike Sharing Demand', 'Person Classification Gait Data', 'Shill Bidding Dataset', 'Iranian Churn Dataset', 'Unmanned Aerial Vehicle (UAV) Intrusion Detection', 'Bone marrow transplant: children', 'Exasens', 'COVID-19 Surveillance', 'Refractive errors', 'Shoulder Implant X-Ray Manufacturer Classification', 'CLINC150', 'HCV data', 'Taiwanese Bankruptcy Prediction', 'South German Credit (UPDATE)', 'IIWA14-R820-Gazebo-Dataset-10Trajectories', 'Guitar Chords finger positions', 'Russian Corpus of Biographical Texts', 'Codon usage', 'Intelligent Media Accelerometer and Gyroscope (IM-AccGyro) Dataset', 'Myocardial infarction complications', 'Hungarian Chickenpox Cases', 'Simulated data for survival modelling', 'Student Performance on an entrance examination', 'Chemical Composition of Ceramic Samples', 'Labeled Text Forum Threads Dataset', 'Stock keeping units', 'BLE RSSI dataset for Indoor localization', 'Basketball dataset', 'GitHub MUSAE', 'Anticancer peptides', 'Monolithic Columns in Troad and Mysia Region', 'Gender by Name', 'Iranian Churn Dataset', 'Unmanned Aerial Vehicle (UAV) Intrusion Detection', 'Shoulder Implant Manufacture Classification', 'LastFM Asia Social Network', 'Wheat kernels', 'Productivity Prediction of Garment Employees', 'Multi-view Brain Networks', 'LastFM Asia Social Network', 'Wisesight Sentiment Corpus', 'AI4I 2020 Predictive Maintenance Dataset', 'Dry Bean Dataset', 'in-vehicle coupon recommendation', 'Gait Classification', 'Wikipedia Math Essentials', 'Wikipedia Math Essentials', 'Synchronous Machine Data Set', 'Average Localization Error (ALE) in sensor node localization process in WSNs', '9mers from cullpdb', 'TamilSentiMix', 'Accelerometer', 'Synchronous Machine Data Set', 'Pedal Me Bicycle Deliveries', 'Turkish Headlines Dataset', 'Secondary Mushroom Dataset', 'Power consumption of Tetouan city', 'Raisin Dataset', 'Steel Industry Energy Consumption Dataset', 'Gender Gap in Spanish WP', 'Non verbal tourists data', 'Roman Urdu Sentiment Analysis Dataset (RUSAD)', 'TUANDROMD ( Tezpur University Android Malware Dataset)', 'Higher Education Students Performance Evaluation Dataset', 'Risk Factor prediction of Chronic Kidney Disease', 'Lab Test', 'Shoulder Implant Manufacture Classification', 'Rocket League Skillshots Data Set', 'Sepsis survival minimal clinical records', 'Water Quality Prediction', 'Traffic Flow Forecasting', 'sentiment analysis in Saudi Arabia about distance education during Covid-19 ', 'Kain Tradisional Sambas', 'Image Recognition Task Execution Times in Mobile Edge Computing', 'REWEMA', 'REJAFADA ', 'Steel Industry Energy Consumption Dataset', 'Influenza outbreak event prediction via Twitter data', 'Turkish Music Emotion Dataset', 'Maternal Health Risk Data Set', 'Room Occupancy Estimation', 'Image Recognition Task Execution Times in Mobile Edge Computing']}\n",
      "{'Data Types': ['Multivariate\\xa0', 'Multivariate\\xa0', 'Multivariate\\xa0', 'Multivariate\\xa0', 'Multivariate\\xa0', 'Multivariate\\xa0', 'Multivariate\\xa0', 'Multivariate\\xa0', 'Multivariate\\xa0', 'Multivariate\\xa0', 'Multivariate\\xa0', 'Multivariate\\xa0', 'Multivariate\\xa0', 'Multivariate\\xa0', 'Multivariate\\xa0', 'Multivariate\\xa0', 'Multivariate\\xa0', 'Multivariate\\xa0', 'Multivariate\\xa0', 'Multivariate\\xa0', 'Multivariate\\xa0', 'Multivariate\\xa0', 'Multivariate\\xa0', 'Multivariate\\xa0', 'Multivariate\\xa0', 'Multivariate\\xa0', 'Multivariate\\xa0', 'Multivariate\\xa0', 'Multivariate\\xa0', 'Multivariate\\xa0', 'Multivariate\\xa0', 'Multivariate\\xa0', 'Multivariate\\xa0', 'Multivariate\\xa0', 'Multivariate\\xa0', 'Multivariate\\xa0', 'Multivariate\\xa0', 'Multivariate\\xa0', 'Multivariate\\xa0', 'Multivariate\\xa0', 'Multivariate\\xa0', 'Multivariate\\xa0', 'Multivariate\\xa0', 'Multivariate\\xa0', 'Multivariate\\xa0', 'Multivariate\\xa0', 'Multivariate\\xa0', 'Multivariate\\xa0', 'Multivariate\\xa0', 'Multivariate\\xa0', 'Multivariate\\xa0', 'Multivariate\\xa0', 'Multivariate\\xa0', 'Multivariate\\xa0', 'Multivariate\\xa0', 'Multivariate\\xa0', 'Multivariate\\xa0', 'Multivariate\\xa0', 'Multivariate\\xa0', 'Multivariate\\xa0', 'Multivariate\\xa0', 'Multivariate\\xa0', 'Multivariate\\xa0', 'Multivariate\\xa0', 'Multivariate\\xa0', 'Multivariate\\xa0', 'Multivariate\\xa0', 'Multivariate\\xa0', 'Multivariate\\xa0', 'Multivariate\\xa0', 'Multivariate\\xa0', 'Multivariate\\xa0', 'Multivariate\\xa0', 'Multivariate\\xa0', 'Multivariate\\xa0', 'Multivariate\\xa0', 'Multivariate\\xa0', 'Multivariate\\xa0', 'Multivariate\\xa0', 'Multivariate\\xa0', 'Multivariate\\xa0', 'Multivariate\\xa0', 'Multivariate\\xa0', 'Multivariate\\xa0', 'Multivariate\\xa0', 'Multivariate\\xa0', 'Multivariate\\xa0', 'Multivariate\\xa0', 'Multivariate\\xa0', 'Multivariate\\xa0', 'Multivariate\\xa0', 'Multivariate\\xa0', 'Multivariate\\xa0', 'Multivariate\\xa0', 'Multivariate\\xa0', 'Multivariate\\xa0', 'Multivariate\\xa0', 'Multivariate\\xa0', 'Multivariate\\xa0', 'Multivariate\\xa0', 'Multivariate\\xa0', 'Multivariate\\xa0', 'Multivariate\\xa0', 'Multivariate\\xa0', 'Multivariate\\xa0', 'Multivariate\\xa0', 'Multivariate\\xa0', 'Multivariate\\xa0', 'Multivariate\\xa0', 'Multivariate\\xa0', 'Multivariate\\xa0', 'Multivariate\\xa0', 'Multivariate\\xa0', 'Multivariate\\xa0', 'Multivariate\\xa0', 'Multivariate\\xa0', 'Multivariate\\xa0', 'Multivariate\\xa0', 'Multivariate\\xa0', 'Multivariate\\xa0', 'Multivariate\\xa0', 'Multivariate\\xa0', 'Multivariate\\xa0', 'Multivariate\\xa0', 'Multivariate\\xa0', 'Multivariate\\xa0', 'Multivariate\\xa0', 'Multivariate\\xa0', 'Multivariate\\xa0', 'Multivariate\\xa0', 'Multivariate\\xa0', 'Multivariate\\xa0', 'Multivariate\\xa0', 'Multivariate\\xa0', 'Multivariate\\xa0', 'Multivariate\\xa0', 'Multivariate\\xa0', 'Multivariate\\xa0', 'Multivariate\\xa0', 'Multivariate\\xa0', 'Multivariate\\xa0', 'Multivariate\\xa0', 'Multivariate\\xa0', 'Multivariate\\xa0', 'Multivariate\\xa0', 'Multivariate\\xa0', 'Multivariate\\xa0', 'Multivariate\\xa0', 'Multivariate\\xa0', 'Multivariate\\xa0', 'Multivariate\\xa0', 'Multivariate\\xa0', 'Multivariate\\xa0', 'Multivariate\\xa0', 'Multivariate\\xa0', 'Multivariate\\xa0', 'Multivariate\\xa0', 'Multivariate\\xa0', 'Multivariate\\xa0', 'Multivariate\\xa0', 'Multivariate\\xa0', 'Multivariate\\xa0', 'Multivariate\\xa0', 'Multivariate\\xa0', 'Multivariate\\xa0', 'Multivariate\\xa0', 'Multivariate\\xa0', 'Multivariate\\xa0', 'Multivariate\\xa0', 'Multivariate\\xa0', 'Multivariate\\xa0', 'Multivariate\\xa0', 'Multivariate\\xa0', 'Multivariate\\xa0', 'Multivariate\\xa0', 'Multivariate\\xa0', 'Multivariate\\xa0', 'Multivariate\\xa0', 'Multivariate\\xa0', 'Multivariate\\xa0', 'Multivariate\\xa0', 'Multivariate\\xa0', 'Multivariate\\xa0', 'Multivariate\\xa0', 'Multivariate\\xa0', 'Multivariate\\xa0', 'Multivariate\\xa0', 'Multivariate\\xa0', 'Multivariate\\xa0', 'Multivariate\\xa0', 'Multivariate\\xa0', 'Multivariate\\xa0', 'Multivariate\\xa0', 'Multivariate\\xa0', 'Multivariate\\xa0', 'Multivariate\\xa0', 'Multivariate\\xa0', 'Multivariate\\xa0', 'Multivariate\\xa0', 'Multivariate\\xa0', 'Multivariate\\xa0', 'Multivariate\\xa0', 'Multivariate\\xa0', 'Multivariate\\xa0', 'Multivariate\\xa0', 'Multivariate\\xa0', 'Multivariate\\xa0', 'Multivariate\\xa0', 'Multivariate\\xa0', 'Multivariate\\xa0', 'Multivariate\\xa0', 'Multivariate\\xa0', 'Multivariate\\xa0', 'Multivariate\\xa0', 'Multivariate\\xa0', 'Multivariate\\xa0', 'Multivariate\\xa0', 'Multivariate\\xa0', 'Multivariate\\xa0', 'Multivariate\\xa0', 'Multivariate\\xa0', 'Multivariate\\xa0', 'Multivariate\\xa0', 'Multivariate\\xa0', 'Multivariate\\xa0', 'Multivariate\\xa0', 'Multivariate\\xa0', 'Multivariate\\xa0', 'Multivariate\\xa0', 'Multivariate\\xa0', 'Multivariate\\xa0', 'Multivariate\\xa0', 'Multivariate\\xa0', 'Multivariate\\xa0', 'Multivariate\\xa0', 'Multivariate\\xa0', 'Multivariate\\xa0', 'Multivariate\\xa0', 'Multivariate\\xa0', 'Multivariate\\xa0', 'Multivariate\\xa0', 'Multivariate\\xa0', 'Multivariate\\xa0', 'Multivariate\\xa0', 'Multivariate\\xa0', 'Multivariate\\xa0', 'Multivariate\\xa0', 'Multivariate\\xa0', 'Multivariate\\xa0', 'Multivariate\\xa0', 'Multivariate\\xa0', 'Multivariate\\xa0', 'Multivariate\\xa0', 'Multivariate\\xa0', 'Multivariate\\xa0', 'Multivariate\\xa0', 'Multivariate\\xa0', 'Multivariate\\xa0', 'Multivariate\\xa0', 'Multivariate\\xa0', 'Multivariate\\xa0', 'Multivariate\\xa0', 'Multivariate\\xa0', 'Multivariate\\xa0', 'Multivariate\\xa0', 'Multivariate\\xa0', 'Multivariate\\xa0', 'Multivariate\\xa0', 'Multivariate\\xa0', 'Multivariate\\xa0', 'Multivariate\\xa0', 'Multivariate\\xa0', 'Multivariate\\xa0', 'Multivariate\\xa0', 'Multivariate\\xa0', 'Multivariate\\xa0', 'Multivariate\\xa0', 'Multivariate\\xa0', 'Multivariate\\xa0', 'Multivariate\\xa0', 'Multivariate\\xa0', 'Multivariate\\xa0', 'Multivariate\\xa0', 'Multivariate\\xa0', 'Multivariate\\xa0', 'Multivariate\\xa0', 'Multivariate\\xa0', 'Multivariate\\xa0', 'Multivariate\\xa0', 'Multivariate\\xa0', 'Multivariate\\xa0', 'Multivariate\\xa0', 'Multivariate\\xa0', 'Multivariate\\xa0', 'Multivariate\\xa0', 'Multivariate\\xa0', 'Multivariate\\xa0', 'Multivariate\\xa0', 'Multivariate\\xa0', 'Multivariate\\xa0', 'Multivariate\\xa0', 'Multivariate\\xa0', 'Multivariate\\xa0', 'Multivariate\\xa0', 'Multivariate\\xa0', 'Multivariate\\xa0', 'Multivariate\\xa0', 'Multivariate\\xa0', 'Multivariate\\xa0', 'Multivariate\\xa0', 'Multivariate\\xa0', 'Multivariate\\xa0', 'Multivariate\\xa0', 'Multivariate\\xa0', 'Multivariate\\xa0', 'Multivariate\\xa0', 'Multivariate\\xa0', 'Multivariate\\xa0', 'Multivariate\\xa0', 'Multivariate\\xa0', 'Multivariate\\xa0', 'Multivariate\\xa0', 'Multivariate\\xa0', 'Multivariate\\xa0', 'Multivariate\\xa0', 'Multivariate\\xa0', 'Multivariate\\xa0', 'Multivariate\\xa0', 'Multivariate\\xa0', 'Multivariate\\xa0', 'Multivariate\\xa0', 'Multivariate\\xa0', 'Multivariate\\xa0', 'Multivariate\\xa0', 'Multivariate\\xa0', 'Multivariate\\xa0', 'Multivariate\\xa0', 'Multivariate\\xa0', 'Multivariate\\xa0', 'Multivariate\\xa0', 'Multivariate\\xa0']}\n"
     ]
    }
   ],
   "source": [
    "from bs4 import BeautifulSoup\n",
    "import requests\n",
    "import json\n",
    "url = 'https://archive.ics.uci.edu/ml/datasets.php'\n",
    "response = requests.get(url)\n",
    "soup = BeautifulSoup(response.text,\"html.parser\")\n",
    "body = soup.body \n",
    "headers = body.find_all(\"p\", class_ =\"whitetext\")\n",
    "headers_list = []\n",
    "for head in headers:\n",
    "    headers_list.append(head.text)\n",
    "# print(headers_list)\n",
    "\n",
    "# headers_val = body.find_all(\"font\", color=\"red\")\n",
    "# # print(headers_val)\n",
    "# headers_val_list = []\n",
    "# for head in headers_val:\n",
    "#     headers_val_list.append(head.text)\n",
    "# print(headers_val_list)\n",
    "\n",
    "headers_info = body.find_all(\"p\", class_=\"normal, whitetext\")\n",
    "headers_info_list = []\n",
    "for head in headers_info:\n",
    "    headers_info_list.append(head.text)\n",
    "print(headers_info_list)\n",
    "\n",
    "headers_val = body.select(\"p.normal  b\")\n",
    "# print(headers_val)\n",
    "headers_val_list = []\n",
    "for head in headers_val:\n",
    "    headers_val_list.append(head.text)\n",
    "print(len(headers_val_list))\n",
    "\n",
    "headers_val = body.select(\"td p.normal\")\n",
    "# print(headers_val)\n",
    "headers_val_list = []\n",
    "for head in headers_val:\n",
    "    headers_val_list.append(head.text)\n",
    "headers_contents = headers_val_list[8:-2]\n",
    "dic = {}\n",
    "print(len(headers_contents))\n",
    " \n",
    "headerContent1 =[]\n",
    "header_dict1 = {}\n",
    "for header_content in headers_contents:\n",
    "    if (headers_contents.index(header_content) % 7 == 0) or (headers_contents.index(header_content)==0):  \n",
    "        headerContent1.append(header_content)\n",
    "header_dict1[headers_info_list[0]] = headerContent1\n",
    "print(header_dict1)\n",
    "\n",
    "\n",
    "headerContent2 =[]\n",
    "header_dict2 = {}\n",
    "num = 0\n",
    "for header_content in headers_contents:\n",
    "    if ((headers_contents.index(header_content)-(num)) % 7 == 0 ) and headers_contents.index(header_content) == 1:  \n",
    "        headerContent2.append(header_content)\n",
    "    num += 1\n",
    "header_dict2[headers_info_list[1]] = headerContent2\n",
    "print(header_dict2)\n",
    "\n",
    "with open(\"archive_stats.json\",\"w\") as archive_file:\n",
    "        json.dump(header_dict1,archive_file)\n",
    "        json.dump(headers_info_list,archive_file)\n"
   ]
  },
  {
   "cell_type": "code",
   "execution_count": null,
   "metadata": {},
   "outputs": [],
   "source": []
  }
 ],
 "metadata": {
  "kernelspec": {
   "display_name": "base",
   "language": "python",
   "name": "python3"
  },
  "language_info": {
   "codemirror_mode": {
    "name": "ipython",
    "version": 3
   },
   "file_extension": ".py",
   "mimetype": "text/x-python",
   "name": "python",
   "nbconvert_exporter": "python",
   "pygments_lexer": "ipython3",
   "version": "3.8.5"
  },
  "orig_nbformat": 4
 },
 "nbformat": 4,
 "nbformat_minor": 2
}
